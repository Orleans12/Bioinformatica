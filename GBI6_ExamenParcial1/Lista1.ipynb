{
 "cells": [
  {
   "cell_type": "markdown",
   "id": "65dc5bba",
   "metadata": {},
   "source": [
    "# Pregunta 6\n",
    "## Una lista de nombre lista1 que tenga a las 10 primeras letras del alfabeto.\n"
   ]
  },
  {
   "cell_type": "code",
   "execution_count": 8,
   "id": "d1bfcd05",
   "metadata": {},
   "outputs": [],
   "source": [
    "lista1 = [\"a\",\"b\",\"c\",\"d\",\"e\",\"f\",\"g\",\"h\",\"i\",\"j\"]\n",
    "lista1.append([\"gbi6\", \"bio1\", \"ikiam\"])"
   ]
  },
  {
   "cell_type": "code",
   "execution_count": 9,
   "id": "8125420d",
   "metadata": {},
   "outputs": [
    {
     "data": {
      "text/plain": [
       "'ikiam'"
      ]
     },
     "execution_count": 9,
     "metadata": {},
     "output_type": "execute_result"
    }
   ],
   "source": [
    "lista1[-1][-1]\n",
    "\n"
   ]
  },
  {
   "cell_type": "code",
   "execution_count": 10,
   "id": "fdd1bc09",
   "metadata": {},
   "outputs": [
    {
     "data": {
      "text/plain": [
       "'d'"
      ]
     },
     "execution_count": 10,
     "metadata": {},
     "output_type": "execute_result"
    }
   ],
   "source": [
    "lista1[3]\n",
    "\n"
   ]
  },
  {
   "cell_type": "code",
   "execution_count": 11,
   "id": "9b8e3764",
   "metadata": {},
   "outputs": [
    {
     "data": {
      "text/plain": [
       "['c', 'd', 'e']"
      ]
     },
     "execution_count": 11,
     "metadata": {},
     "output_type": "execute_result"
    }
   ],
   "source": [
    "lista1[2:5]\n",
    "\n"
   ]
  },
  {
   "cell_type": "code",
   "execution_count": 12,
   "id": "f2f4686d",
   "metadata": {},
   "outputs": [
    {
     "data": {
      "text/plain": [
       "11"
      ]
     },
     "execution_count": 12,
     "metadata": {},
     "output_type": "execute_result"
    }
   ],
   "source": [
    "len(lista1)\n",
    "\n"
   ]
  },
  {
   "cell_type": "markdown",
   "id": "927b431c",
   "metadata": {},
   "source": []
  },
  {
   "cell_type": "code",
   "execution_count": null,
   "id": "d8537f48",
   "metadata": {},
   "outputs": [],
   "source": []
  }
 ],
 "metadata": {
  "kernelspec": {
   "display_name": "Python 3",
   "language": "python",
   "name": "python3"
  },
  "language_info": {
   "codemirror_mode": {
    "name": "ipython",
    "version": 3
   },
   "file_extension": ".py",
   "mimetype": "text/x-python",
   "name": "python",
   "nbconvert_exporter": "python",
   "pygments_lexer": "ipython3",
   "version": "3.8.8"
  }
 },
 "nbformat": 4,
 "nbformat_minor": 5
}
