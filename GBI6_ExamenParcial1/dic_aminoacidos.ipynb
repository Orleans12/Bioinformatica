{
 "cells": [
  {
   "cell_type": "markdown",
   "id": "5ec9f428",
   "metadata": {},
   "source": [
    "# Pregunta 8\n",
    "## Para este ejercicio debe debe realizar lo siguiente:\n",
    "\n",
    "Crear un diccionario de nombre dic_aminoacidos, donde se tenga la información de la tabla que se encuentra en http://www.russelllab.org/aas/aas.html. <br>\n",
    "Utilice como \"key\" los valores de la columna \"AA\" y las columnas \"Hits\" y \"%Abundance\" como \"values\". <br> \n",
    "Luego de crear el diccionario, extraiga los valores de \"key\" a una lista de nombre \"aminoacidos\" <br>\n",
    "Extraiga los valores de \"value\" a una lista de nombre \"propiedades\" <br>"
   ]
  },
  {
   "cell_type": "code",
   "execution_count": 2,
   "id": "3de8ef41",
   "metadata": {},
   "outputs": [],
   "source": [
    "dic_aminoacidos = dict(Trp1550=\"1.34\", Cys1905=\"1.76\", His1695=\"2.26\", Arg3093= \"5.20\", Met1102= \"2.32\", Tyr1525= \"3.25\", Gln1830= \"3.96\", Phe1616=\"4.12\", Asp1691=\"5.12\", Pro1598= \"5.00\", Ala2018= \"7.34\", Asn1103= \"4.57\", Lys1366= \"5.81\", Glu1471=\"6.22\", Gly1386= \"6.89\", Thr1147=\"5.85\", Val1225= \"6.48\", Ile1033= \"5.76\", Ser1206= \"7.38\", Leu1127= \"9.36\") "
   ]
  },
  {
   "cell_type": "code",
   "execution_count": 4,
   "id": "955a8e5e",
   "metadata": {},
   "outputs": [
    {
     "data": {
      "text/plain": [
       "{'Trp1550': '1.34',\n",
       " 'Cys1905': '1.76',\n",
       " 'His1695': '2.26',\n",
       " 'Arg3093': '5.20',\n",
       " 'Met1102': '2.32',\n",
       " 'Tyr1525': '3.25',\n",
       " 'Gln1830': '3.96',\n",
       " 'Phe1616': '4.12',\n",
       " 'Asp1691': '5.12',\n",
       " 'Pro1598': '5.00',\n",
       " 'Ala2018': '7.34',\n",
       " 'Asn1103': '4.57',\n",
       " 'Lys1366': '5.81',\n",
       " 'Glu1471': '6.22',\n",
       " 'Gly1386': '6.89',\n",
       " 'Thr1147': '5.85',\n",
       " 'Val1225': '6.48',\n",
       " 'Ile1033': '5.76',\n",
       " 'Ser1206': '7.38',\n",
       " 'Leu1127': '9.36'}"
      ]
     },
     "execution_count": 4,
     "metadata": {},
     "output_type": "execute_result"
    }
   ],
   "source": [
    "dic_aminoacidos\n"
   ]
  },
  {
   "cell_type": "code",
   "execution_count": 16,
   "id": "fa68e131",
   "metadata": {},
   "outputs": [],
   "source": [
    "aminoacidos= dic_aminoacidos.keys()\n"
   ]
  },
  {
   "cell_type": "code",
   "execution_count": 17,
   "id": "16c98fa6",
   "metadata": {},
   "outputs": [
    {
     "data": {
      "text/plain": [
       "dict_keys(['Trp1550', 'Cys1905', 'His1695', 'Arg3093', 'Met1102', 'Tyr1525', 'Gln1830', 'Phe1616', 'Asp1691', 'Pro1598', 'Ala2018', 'Asn1103', 'Lys1366', 'Glu1471', 'Gly1386', 'Thr1147', 'Val1225', 'Ile1033', 'Ser1206', 'Leu1127'])"
      ]
     },
     "execution_count": 17,
     "metadata": {},
     "output_type": "execute_result"
    }
   ],
   "source": [
    "aminoacidos"
   ]
  },
  {
   "cell_type": "code",
   "execution_count": 18,
   "id": "2e56488d",
   "metadata": {},
   "outputs": [
    {
     "data": {
      "text/plain": [
       "20"
      ]
     },
     "execution_count": 18,
     "metadata": {},
     "output_type": "execute_result"
    }
   ],
   "source": [
    "len(aminoacidos)"
   ]
  },
  {
   "cell_type": "code",
   "execution_count": 20,
   "id": "30bda66a",
   "metadata": {},
   "outputs": [],
   "source": [
    "propiedades= dic_aminoacidos.values()"
   ]
  },
  {
   "cell_type": "code",
   "execution_count": 21,
   "id": "e0a6358e",
   "metadata": {},
   "outputs": [
    {
     "data": {
      "text/plain": [
       "dict_values(['1.34', '1.76', '2.26', '5.20', '2.32', '3.25', '3.96', '4.12', '5.12', '5.00', '7.34', '4.57', '5.81', '6.22', '6.89', '5.85', '6.48', '5.76', '7.38', '9.36'])"
      ]
     },
     "execution_count": 21,
     "metadata": {},
     "output_type": "execute_result"
    }
   ],
   "source": [
    "propiedades"
   ]
  },
  {
   "cell_type": "code",
   "execution_count": 24,
   "id": "9b64dba8",
   "metadata": {},
   "outputs": [
    {
     "ename": "NameError",
     "evalue": "name 'git' is not defined",
     "output_type": "error",
     "traceback": [
      "\u001b[1;31m---------------------------------------------------------------------------\u001b[0m",
      "\u001b[1;31mNameError\u001b[0m                                 Traceback (most recent call last)",
      "\u001b[1;32m<ipython-input-24-fe141f8a696a>\u001b[0m in \u001b[0;36m<module>\u001b[1;34m\u001b[0m\n\u001b[1;32m----> 1\u001b[1;33m \u001b[0mgit\u001b[0m\u001b[1;33m\u001b[0m\u001b[1;33m\u001b[0m\u001b[0m\n\u001b[0m",
      "\u001b[1;31mNameError\u001b[0m: name 'git' is not defined"
     ]
    }
   ],
   "source": []
  },
  {
   "cell_type": "code",
   "execution_count": null,
   "id": "cae4a6fd",
   "metadata": {},
   "outputs": [],
   "source": []
  }
 ],
 "metadata": {
  "kernelspec": {
   "display_name": "Python 3",
   "language": "python",
   "name": "python3"
  },
  "language_info": {
   "codemirror_mode": {
    "name": "ipython",
    "version": 3
   },
   "file_extension": ".py",
   "mimetype": "text/x-python",
   "name": "python",
   "nbconvert_exporter": "python",
   "pygments_lexer": "ipython3",
   "version": "3.8.8"
  }
 },
 "nbformat": 4,
 "nbformat_minor": 5
}
